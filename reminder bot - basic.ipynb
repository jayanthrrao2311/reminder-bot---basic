{
 "cells": [
  {
   "cell_type": "code",
   "execution_count": 1,
   "id": "643f855d",
   "metadata": {},
   "outputs": [
    {
     "name": "stdout",
     "output_type": "stream",
     "text": [
      "Collecting pyttsx3\n",
      "  Downloading pyttsx3-2.98-py3-none-any.whl (34 kB)\n",
      "Collecting pypiwin32\n",
      "  Downloading pypiwin32-223-py3-none-any.whl (1.7 kB)\n",
      "Requirement already satisfied: comtypes in e:\\anaconda\\anaconda3\\lib\\site-packages (from pyttsx3) (1.1.10)\n",
      "Requirement already satisfied: pywin32 in e:\\anaconda\\anaconda3\\lib\\site-packages (from pyttsx3) (302)\n",
      "Installing collected packages: pypiwin32, pyttsx3\n",
      "Successfully installed pypiwin32-223 pyttsx3-2.98\n",
      "Collecting schedule\n",
      "  Downloading schedule-1.2.2-py3-none-any.whl (12 kB)\n",
      "Installing collected packages: schedule\n",
      "Successfully installed schedule-1.2.2\n",
      "Collecting tinydb\n",
      "  Downloading tinydb-4.8.2-py3-none-any.whl (24 kB)\n",
      "Installing collected packages: tinydb\n",
      "Successfully installed tinydb-4.8.2\n"
     ]
    }
   ],
   "source": [
    "!pip install pyttsx3\n",
    "!pip install schedule\n",
    "!pip install tinydb"
   ]
  },
  {
   "cell_type": "code",
   "execution_count": 2,
   "id": "237d8a23",
   "metadata": {},
   "outputs": [],
   "source": [
    "from tinydb import TinyDB, Query\n",
    "\n",
    "db = TinyDB('reminders.json')\n",
    "\n",
    "def add_reminders(name, time, message):\n",
    "    db.insert({'name' : name, 'time' : time, 'message' : message})\n",
    "\n",
    "def get_all_reminders():\n",
    "    return db.all()\n",
    "\n",
    "def update_reminder(name , new_time = None , new_message = None):\n",
    "    query = Query()\n",
    "    update_data = {}\n",
    "    if new_time:\n",
    "        update_data['time'] =  new_time\n",
    "    if new_message:\n",
    "        update_data['message'] = new_message\n",
    "    db.update(update_data, query.name == name)\n",
    "\n",
    "def delete_reminder(name):\n",
    "    query = Query()\n",
    "    db.remove(query.name == name)"
   ]
  },
  {
   "cell_type": "code",
   "execution_count": 3,
   "id": "8fb27b42",
   "metadata": {},
   "outputs": [],
   "source": [
    "import pyttsx3\n",
    "\n",
    "def speak_message(message):\n",
    "    engine = pyttsx3.init()\n",
    "    engine.say(message)\n",
    "    engine.runAndWait()"
   ]
  },
  {
   "cell_type": "code",
   "execution_count": 4,
   "id": "6237e988",
   "metadata": {},
   "outputs": [],
   "source": [
    "import schedule \n",
    "import time\n",
    "from datetime import datetime\n",
    "\n",
    "def check_reminders():\n",
    "    reminders = get_all_reminders()\n",
    "    current_time = datetime.now().strftime('%H:%M')\n",
    "    for reminder in reminders:\n",
    "        if reminder['time'] == current_time:\n",
    "            speak_message(f\"reminder : {reminder['message']} scheduled for now.\")\n",
    "\n",
    "schedule.every(1).minutes.do(check_reminders)\n",
    "\n",
    "def run_scheduler():\n",
    "    while True:\n",
    "        schedule.run_pending()\n",
    "        time.sleep(1)\n"
   ]
  },
  {
   "cell_type": "code",
   "execution_count": null,
   "id": "ecbc71d1",
   "metadata": {},
   "outputs": [],
   "source": [
    "def show_menu():\n",
    "    print(\"\\n--- Reminder Bot ---\")\n",
    "    print(\"1. Add Reminder\")\n",
    "    print(\"2. View Reminders\")\n",
    "    print(\"3. Update Reminder\")\n",
    "    print(\"4. Delete Reminder\")\n",
    "    print(\"5. Start Scheduler\")\n",
    "    print(\"0. Exit\")\n",
    "\n",
    "def main():\n",
    "    while True:\n",
    "        show_menu()\n",
    "        choice = input(\"Enter your choice: \")\n",
    "        if choice == '1':\n",
    "            name = input(\"Enter reminder name: \")\n",
    "            time = input(\"Enter time (HH:MM, 24-hour): \")\n",
    "            message = input(\"Enter message for reminder: \")\n",
    "            add_reminders(name, time, message)\n",
    "            print(\"Reminder added successfully!\")\n",
    "        elif choice == '2':\n",
    "            reminders = get_all_reminders()\n",
    "            for r in reminders:\n",
    "                print(r)\n",
    "        elif choice == '3':\n",
    "            name = input(\"Enter reminder name to update: \")\n",
    "            new_time = input(\"Enter new time (leave blank to skip): \")\n",
    "            new_message = input(\"Enter new message (leave blank to skip): \")\n",
    "            update_reminder(name, new_time or None, new_message or None)\n",
    "            print(\"Reminder updated successfully!\")\n",
    "        elif choice == '4':\n",
    "            name = input(\"Enter reminder name to delete: \")\n",
    "            delete_reminder(name)\n",
    "            print(\"Reminder deleted successfully!\")\n",
    "        elif choice == '5':\n",
    "            print(\"Starting scheduler...\")\n",
    "            run_scheduler()\n",
    "        elif choice == '0':\n",
    "            print(\"Exiting...\")\n",
    "            break\n",
    "        else:\n",
    "            print(\"Invalid choice. Please try again.\")\n"
   ]
  },
  {
   "cell_type": "code",
   "execution_count": null,
   "id": "f996a514",
   "metadata": {
    "scrolled": true
   },
   "outputs": [],
   "source": [
    "main()"
   ]
  },
  {
   "cell_type": "code",
   "execution_count": null,
   "id": "95bd4e84",
   "metadata": {},
   "outputs": [],
   "source": []
  }
 ],
 "metadata": {
  "kernelspec": {
   "display_name": "Python 3 (ipykernel)",
   "language": "python",
   "name": "python3"
  },
  "language_info": {
   "codemirror_mode": {
    "name": "ipython",
    "version": 3
   },
   "file_extension": ".py",
   "mimetype": "text/x-python",
   "name": "python",
   "nbconvert_exporter": "python",
   "pygments_lexer": "ipython3",
   "version": "3.9.13"
  }
 },
 "nbformat": 4,
 "nbformat_minor": 5
}
